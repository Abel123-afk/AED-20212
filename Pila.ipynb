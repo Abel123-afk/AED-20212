{
  "nbformat": 4,
  "nbformat_minor": 0,
  "metadata": {
    "colab": {
      "name": "Pila.ipynb",
      "provenance": [],
      "authorship_tag": "ABX9TyPNOsky6lbDPoRyXRLwr1th",
      "include_colab_link": true
    },
    "kernelspec": {
      "name": "python3",
      "display_name": "Python 3"
    },
    "language_info": {
      "name": "python"
    }
  },
  "cells": [
    {
      "cell_type": "markdown",
      "metadata": {
        "id": "view-in-github",
        "colab_type": "text"
      },
      "source": [
        "<a href=\"https://colab.research.google.com/github/Abel123-afk/AED-20212/blob/main/Pila.ipynb\" target=\"_parent\"><img src=\"https://colab.research.google.com/assets/colab-badge.svg\" alt=\"Open In Colab\"/></a>"
      ]
    },
    {
      "cell_type": "markdown",
      "source": [
        "Creamos la estructura de datos de una Pila"
      ],
      "metadata": {
        "id": "if1aexbysBZ5"
      }
    },
    {
      "cell_type": "code",
      "execution_count": 11,
      "metadata": {
        "colab": {
          "base_uri": "https://localhost:8080/"
        },
        "id": "RGdEVyybr-KN",
        "outputId": "88f5a9b7-9394-4dce-dba4-ee7a112b3954"
      },
      "outputs": [
        {
          "output_type": "stream",
          "name": "stdout",
          "text": [
            "Overwriting pila.cpp\n"
          ]
        }
      ],
      "source": [
        "%%writefile pila.cpp\n",
        "#include<iostream>\n",
        "using namespace std;\n",
        "template<class T>\n",
        "class Pila{\n",
        "    T*arr;\n",
        "    int n;\n",
        "    int tope;\n",
        "    public:\n",
        "    Pila(int n=50):n(n){\n",
        "        arr=new T[n];\n",
        "        tope=-1;\n",
        "    }\n",
        "    void push(T dato)\n",
        "    {\n",
        "        if(!full())\n",
        "        {\n",
        "            tope++;\n",
        "            arr[tope]=dato;\n",
        "        }\n",
        "    }\n",
        "    void pop()\n",
        "    {\n",
        "        if(!empty())\n",
        "        {\n",
        "            T*aux=new T[n-1];\n",
        "            for(int i=0; i<tope; i++)\n",
        "            {\n",
        "                aux[i]=arr[i];\n",
        "            }\n",
        "            delete []arr;\n",
        "            arr=aux;\n",
        "            tope--;\n",
        "            aux=nullptr;\n",
        "            delete aux;\n",
        "        }\n",
        "    }\n",
        "    T top()\n",
        "    {\n",
        "        if(!empty())\n",
        "        {\n",
        "            return arr[tope];\n",
        "        }\n",
        "    }\n",
        "    bool empty()\n",
        "    {\n",
        "        return tope==-1;\n",
        "    }\n",
        "    bool full()\n",
        "    {\n",
        "        return n-1==tope;\n",
        "    }\n",
        "    int size()\n",
        "    {\n",
        "        return n;\n",
        "    }\n",
        "};\n",
        "int main()\n",
        "{\n",
        "    Pila<int>*numeros=new Pila<int>(30);\n",
        "    for(int i=0; i<50; i++)\n",
        "    {\n",
        "        numeros->push(rand()%200+50);\n",
        "    }\n",
        "    cout<<\"Size: \"<<numeros->size()<<endl;\n",
        "    for(size_t i=0; i<numeros->size(); i++)\n",
        "    {\n",
        "        cout<<numeros->top()<<\" - \";\n",
        "        numeros->pop();\n",
        "    }\n",
        "    cout<<\"\\nSize: \"<<numeros->size()<<endl;\n",
        "    return 0;\n",
        "}"
      ]
    },
    {
      "cell_type": "code",
      "source": [
        "!g++ pila.cpp && ./a.out"
      ],
      "metadata": {
        "colab": {
          "base_uri": "https://localhost:8080/"
        },
        "id": "90CE54YXsTG0",
        "outputId": "a068bb25-9aa5-487a-8325-046b3476692c"
      },
      "execution_count": 12,
      "outputs": [
        {
          "output_type": "stream",
          "name": "stdout",
          "text": [
            "Size: 30\n",
            "185 - 117 - 173 - 112 - 180 - 232 - 79 - 217 - 218 - 61 - 186 - 222 - 76 - 190 - 176 - 213 - 109 - 140 - 77 - 212 - 71 - 99 - 142 - 236 - 185 - 243 - 165 - 227 - 136 - 233 - \n",
            "Size: 30\n"
          ]
        }
      ]
    },
    {
      "cell_type": "code",
      "source": [
        ""
      ],
      "metadata": {
        "id": "yfgwhBFcsXb2"
      },
      "execution_count": null,
      "outputs": []
    }
  ]
}