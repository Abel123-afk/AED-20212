{
  "nbformat": 4,
  "nbformat_minor": 0,
  "metadata": {
    "colab": {
      "name": "ArbolesBinarios.ipynb",
      "provenance": [],
      "authorship_tag": "ABX9TyMVQk3wuRoHH1TAi8xAVdmE"
    },
    "kernelspec": {
      "name": "python3",
      "display_name": "Python 3"
    },
    "language_info": {
      "name": "python"
    }
  },
  "cells": [
    {
      "cell_type": "code",
      "metadata": {
        "colab": {
          "base_uri": "https://localhost:8080/"
        },
        "id": "PFghgeD_VRTm",
        "outputId": "7209748e-5add-4d08-fe27-dc88e19bfee6"
      },
      "source": [
        "%%writefile ABB.hpp\n",
        "#ifndef __ARBOLB_HPP__\n",
        "#define __ARBOLB_HPP__\n",
        "\n",
        "template <class T>\n",
        "class Nodo {\n",
        "public:\n",
        "\tT elemento;\n",
        "\tNodo* izq;\n",
        "\tNodo* der;\n",
        "  Nodo(T elemento){\n",
        "      this->elemento=elemento\n",
        "      izq=der=nullptr;\n",
        "\n",
        "  }\n",
        "};\n",
        "\n",
        "template <class T>\n",
        "class ArbolB {\n",
        "\tNodo<T>* raiz;\t\n",
        "\n",
        "private:\n",
        "\tbool _insertar(Nodo<T>*& nodo, T e) {\n",
        "\t\tif (nodo == nullptr) {\n",
        "\t\t\tnodo = new Nodo<T>();\n",
        "\t\t\tnodo->elemento = e;\n",
        "\t\t}\n",
        "\t\telse if (e < nodo->elemento) {\n",
        "\t\t\treturn _insertar(nodo->izq, e);\n",
        "\t\t}\n",
        "\t\telse if (e >= nodo->elemento) {\n",
        "\t\t\treturn _insertar(nodo->der, e);\n",
        "\t\t}\n",
        "\t}\n",
        "\tvoid _enOrden(Nodo<T>* nodo) {\n",
        "\t\tif (nodo == nullptr) return;\n",
        "\t\t_enOrden(nodo->izq);\n",
        "\t\tcout<<nodo->elemento<<\" \";\n",
        "\t\t_enOrden(nodo->der);\n",
        "\t}\n",
        "\t\n",
        "\tbool _vacio() {\n",
        "\t\treturn raiz == nullptr;\n",
        "\t}\n",
        "\tint _cantidad(Nodo<T>* nodo) {\n",
        "\t\t//La cantidad de nodos del árbol es:\n",
        "\t\t//\t0 si es vacío\n",
        "\t\t//\t1 + la cantidad de nodos por la izquierda + la cantidad de nodos por la derecha\n",
        "\t\tif (nodo==nullptr)\n",
        "\t\t\treturn 0;\n",
        "\t\telse\n",
        "\t\t{\n",
        "\t\t\tint ci, cd;\n",
        "\t\t\tci = _cantidad(nodo->izq);\n",
        "\t\t\tcd = _cantidad(nodo->der);\n",
        "\t\t\treturn 1 + ci + cd;\n",
        "\t\t}\n",
        "\n",
        "\t}\n",
        "public:\n",
        "\tArbolB() {\n",
        "\t\n",
        "\t\traiz = nullptr;\n",
        "\t}\n",
        "\tbool insertar(T e) {\n",
        "\t\treturn _insertar(raiz, e);\n",
        "\t}\n",
        "\tvoid enOrden() {\n",
        "\t\t_enOrden(raiz);\n",
        "  }\n",
        "\tint cantidad() {\n",
        "\t\treturn _cantidad(raiz);\n",
        "\t}\n",
        "\tint altura() {\n",
        "\t\treturn _altura(raiz);\n",
        "\t}\n",
        "};\n",
        "\n",
        "#endif\n"
      ],
      "execution_count": 10,
      "outputs": [
        {
          "output_type": "stream",
          "name": "stdout",
          "text": [
            "Overwriting ABB.hpp\n"
          ]
        }
      ]
    },
    {
      "cell_type": "code",
      "metadata": {
        "colab": {
          "base_uri": "https://localhost:8080/"
        },
        "id": "i9fuJGGNW_OK",
        "outputId": "aa1c0f25-71ec-49d1-a7d3-23ca7b159bb6"
      },
      "source": [
        "%%writefile test.cpp\n",
        "\n",
        "#include <iostream>\n",
        "\n",
        "using namespace std;\n",
        "#include \"ABB.hpp\"\n",
        "int main(){\n",
        "    ArbolB<int> tree;\n",
        "    for(int i=0;i<10;++i)\n",
        "      tree.insertar(i);\n",
        "    tree.enOrden();\n",
        "    cout<<\"\\n\"<<tree.cantidad();\n",
        "    return 0;\n",
        "}"
      ],
      "execution_count": 15,
      "outputs": [
        {
          "output_type": "stream",
          "name": "stdout",
          "text": [
            "Overwriting test.cpp\n"
          ]
        }
      ]
    },
    {
      "cell_type": "code",
      "metadata": {
        "colab": {
          "base_uri": "https://localhost:8080/"
        },
        "id": "wkhN-eLlXpBr",
        "outputId": "9e2e2700-ba46-4800-e3f1-052982d3e147"
      },
      "source": [
        "!g++ test.cpp && ./a.out"
      ],
      "execution_count": 16,
      "outputs": [
        {
          "output_type": "stream",
          "name": "stdout",
          "text": [
            "0 1 2 3 4 5 6 7 8 9 \n",
            "10"
          ]
        }
      ]
    },
    {
      "cell_type": "code",
      "metadata": {
        "id": "Frkm_CryXtX0"
      },
      "source": [
        ""
      ],
      "execution_count": null,
      "outputs": []
    }
  ]
}