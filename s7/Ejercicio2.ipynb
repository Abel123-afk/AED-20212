{
  "nbformat": 4,
  "nbformat_minor": 0,
  "metadata": {
    "colab": {
      "name": "Ejercicio2.ipynb",
      "provenance": [],
      "authorship_tag": "ABX9TyM7i9MgkBZtUPKHd3B0aBLM"
    },
    "kernelspec": {
      "name": "python3",
      "display_name": "Python 3"
    },
    "language_info": {
      "name": "python"
    }
  },
  "cells": [
    {
      "cell_type": "code",
      "metadata": {
        "colab": {
          "base_uri": "https://localhost:8080/"
        },
        "id": "yrrpB76avzQF",
        "outputId": "52897a75-5b15-4a5b-b211-fd0ad08fcc00"
      },
      "source": [
        "%%writefile prueba1.cpp\n",
        "#include <iostream>\n",
        "using namespace std;\n",
        "int main(){\n",
        "  int arreglo[10];\n",
        "  cout<<\"esto es una prueba correcta\";\n",
        "  return 0;\n",
        "}"
      ],
      "execution_count": null,
      "outputs": [
        {
          "output_type": "stream",
          "name": "stdout",
          "text": [
            "Overwriting prueba1.cpp\n"
          ]
        }
      ]
    },
    {
      "cell_type": "code",
      "metadata": {
        "colab": {
          "base_uri": "https://localhost:8080/"
        },
        "id": "W3BmWTJiv73b",
        "outputId": "4e964abf-dc85-4c7f-95e7-e8af72607f8c"
      },
      "source": [
        "%%writefile prueba2.cpp\n",
        "#include <iostream>\n",
        "using namespace std;\n",
        "int main()\n",
        "  int arreglo[10];\n",
        "  cout<<\"esto es una prueba incorrecta\";\n",
        "  return 0;\n",
        "}"
      ],
      "execution_count": null,
      "outputs": [
        {
          "output_type": "stream",
          "name": "stdout",
          "text": [
            "Overwriting prueba2.cpp\n"
          ]
        }
      ]
    },
    {
      "cell_type": "code",
      "metadata": {
        "colab": {
          "base_uri": "https://localhost:8080/"
        },
        "id": "r-qTxGsQwIzD",
        "outputId": "a9297ce7-ec74-42d3-d06c-73f3adca3337"
      },
      "source": [
        "%%writefile prueba3.cpp\n",
        "#include <iostream>\n",
        "using namespace std;\n",
        "int main(){\n",
        "  int arreglo[10];\n",
        "  int i=2;\n",
        "  if(i%2==0){\n",
        "\tcout<<\"Par\";\n",
        "  \n",
        "  cout<<\"esto es una prueba incorrecta\";\n",
        "  return 0;\n",
        "}"
      ],
      "execution_count": null,
      "outputs": [
        {
          "output_type": "stream",
          "name": "stdout",
          "text": [
            "Writing prueba3.cpp\n"
          ]
        }
      ]
    },
    {
      "cell_type": "code",
      "metadata": {
        "colab": {
          "base_uri": "https://localhost:8080/"
        },
        "id": "xHRAp4q9vPLb",
        "outputId": "490b2d86-8d1a-42ed-a9b0-4b1c14019fbb"
      },
      "source": [
        "%%writefile parseador.cpp\n",
        "#include <iostream>\n",
        "#include <string>\n",
        "#include <string.h>\n",
        "#include <fstream>\n",
        "using namespace std;\n",
        "class Pila {\n",
        "    char* arr;\n",
        "    short tam;\n",
        "    short indice;\n",
        "public:\n",
        "    Pila() {\n",
        "        tam = 100;\n",
        "        arr = new char[tam];\n",
        "        indice = 0;\n",
        "    }\n",
        "    void push(char v) {\n",
        "        if (indice < tam)\n",
        "            arr[++indice] = v;\n",
        "    }\n",
        "    bool vacio() {\n",
        "        return (indice > 0) ? false : true;\n",
        "    }\n",
        "    bool validar(char texto[]) {\n",
        "        indice = 0;\n",
        "        int n = strlen(texto);\n",
        "\n",
        "        for (int i = 0; i < n; ++i) {\n",
        "            switch (texto[i]) {\n",
        "            case '(':push('(');; break;\n",
        "            case '[':push('[');; break;\n",
        "            case '{':push('{');; break;\n",
        "            }\n",
        "            if (texto[i] == ')') {\n",
        "                if (vacio() || arr[indice] != '(') return false;\n",
        "                else  --indice;                \n",
        "            }\n",
        "            if (texto[i] == ']') {\n",
        "                if (vacio() || arr[indice] != '[') return false;\n",
        "                else  --indice;                \n",
        "            }\n",
        "            if (texto[i] == '}') {\n",
        "                if (vacio() || arr[indice] != '{') return false;\n",
        "                else  --indice;                \n",
        "            }\n",
        "        }\n",
        "\n",
        "        if (indice == 0) return true; \n",
        "        else return false;\n",
        "    }\n",
        "};\n",
        "\n",
        "int main() {    \n",
        "    Pila stack;\n",
        "    string linea;\n",
        "    ifstream arch(\"prueba3.cpp\");\n",
        "    string s;\n",
        "    int longitud = 0;\n",
        "    while (getline(arch, linea)) {\n",
        "        longitud += linea.length();\n",
        "        s.append(linea);\n",
        "    }\n",
        "    char* texto=new char[longitud + 1];    \n",
        "    strcpy(texto, s.c_str());\n",
        "    string salida = stack.validar(texto) == true ? \"correcto\" : \"incorrecto\";\n",
        "    cout << salida;\n",
        "}\n"
      ],
      "execution_count": null,
      "outputs": [
        {
          "output_type": "stream",
          "name": "stdout",
          "text": [
            "Overwriting parseador.cpp\n"
          ]
        }
      ]
    },
    {
      "cell_type": "code",
      "metadata": {
        "colab": {
          "base_uri": "https://localhost:8080/"
        },
        "id": "Ua0PVaAcwY3b",
        "outputId": "7d48efc4-c05b-4da2-e2ed-fc88761af98a"
      },
      "source": [
        "!g++ parseador.cpp && ./a.out"
      ],
      "execution_count": null,
      "outputs": [
        {
          "output_type": "stream",
          "name": "stdout",
          "text": [
            "incorrecto"
          ]
        }
      ]
    },
    {
      "cell_type": "code",
      "metadata": {
        "id": "bs062LZiwivK"
      },
      "source": [
        ""
      ],
      "execution_count": null,
      "outputs": []
    }
  ]
}