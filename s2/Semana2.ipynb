{
  "nbformat": 4,
  "nbformat_minor": 0,
  "metadata": {
    "colab": {
      "name": "Semana2.ipynb",
      "provenance": [],
      "toc_visible": true,
      "authorship_tag": "ABX9TyNi11HcWqO9gyz45xczYyIO"
    },
    "kernelspec": {
      "name": "python3",
      "display_name": "Python 3"
    },
    "language_info": {
      "name": "python"
    }
  },
  "cells": [
    {
      "cell_type": "markdown",
      "metadata": {
        "id": "s8165vMgkUMn"
      },
      "source": [
        "# Temario\n",
        "1. Colab-MD\n",
        "2. Compilación manual\n",
        "3. Templates"
      ]
    },
    {
      "cell_type": "code",
      "metadata": {
        "colab": {
          "base_uri": "https://localhost:8080/"
        },
        "id": "mGpCTCqggpM-",
        "outputId": "81ea6b1b-62b4-41e3-f1ec-36854bdf91f1"
      },
      "source": [
        "%%writefile programa1.cpp\n",
        "#include <iostream>\n",
        "using std::cout;\n",
        "int main(){\n",
        "  cout<<\"UPCinos\";\n",
        "}"
      ],
      "execution_count": 3,
      "outputs": [
        {
          "output_type": "stream",
          "text": [
            "Overwriting programa1.cpp\n"
          ],
          "name": "stdout"
        }
      ]
    },
    {
      "cell_type": "code",
      "metadata": {
        "id": "fDkry8aliqRY"
      },
      "source": [
        "#compilar el archivo \"cpp\"\n",
        "!g++ programa1.cpp"
      ],
      "execution_count": 4,
      "outputs": []
    },
    {
      "cell_type": "code",
      "metadata": {
        "colab": {
          "base_uri": "https://localhost:8080/"
        },
        "id": "JBLSFdT1i051",
        "outputId": "59f452d9-a730-4f19-baf6-ff6312e9f1a8"
      },
      "source": [
        "#ejecucion\n",
        "!./a.out"
      ],
      "execution_count": 5,
      "outputs": [
        {
          "output_type": "stream",
          "text": [
            "UPCinos"
          ],
          "name": "stdout"
        }
      ]
    },
    {
      "cell_type": "code",
      "metadata": {
        "colab": {
          "base_uri": "https://localhost:8080/"
        },
        "id": "0ObvJuW-jPi5",
        "outputId": "cbd22633-cd09-436b-a0dd-eb6c97ecaf07"
      },
      "source": [
        "!g++ programa1.cpp && ./a.out"
      ],
      "execution_count": 6,
      "outputs": [
        {
          "output_type": "stream",
          "text": [
            "UPCinos"
          ],
          "name": "stdout"
        }
      ]
    },
    {
      "cell_type": "code",
      "metadata": {
        "colab": {
          "base_uri": "https://localhost:8080/"
        },
        "id": "dBCWaXXBjX6M",
        "outputId": "39413d3b-91a6-4564-9ee7-5641f209fe71"
      },
      "source": [
        "!g++ -std=c++1z -Wall programa1.cpp -o programa.exe && ./programa.exe"
      ],
      "execution_count": 11,
      "outputs": [
        {
          "output_type": "stream",
          "text": [
            "UPCinos"
          ],
          "name": "stdout"
        }
      ]
    },
    {
      "cell_type": "code",
      "metadata": {
        "id": "esNxWixfjpiz"
      },
      "source": [
        ""
      ],
      "execution_count": null,
      "outputs": []
    }
  ]
}