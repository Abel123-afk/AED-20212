{
  "nbformat": 4,
  "nbformat_minor": 0,
  "metadata": {
    "colab": {
      "name": "Semana2.ipynb",
      "provenance": [],
      "collapsed_sections": [],
      "authorship_tag": "ABX9TyPfNVPJ+tJ8J/UFxDpjiOW7"
    },
    "kernelspec": {
      "name": "python3",
      "display_name": "Python 3"
    },
    "language_info": {
      "name": "python"
    }
  },
  "cells": [
    {
      "cell_type": "markdown",
      "metadata": {
        "id": "08rV00PD-PGX"
      },
      "source": [
        "# **Temario**\n",
        "1. Colab-Markdown\n",
        "2. Compilación de c++ desde terminal\n",
        "3. Templates\n",
        "4. Recursividad\n"
      ]
    },
    {
      "cell_type": "code",
      "metadata": {
        "colab": {
          "base_uri": "https://localhost:8080/"
        },
        "id": "hehegM5C7vV_",
        "outputId": "d5df2513-748e-4b95-a278-67d294b4bcf6"
      },
      "source": [
        "%%writefile programa1.cpp\n",
        "#include <iostream>\n",
        "using namespace std;\n",
        "int main(){\n",
        "  cout<<\"Introduccion a Colab\";\n",
        "  return 0;\n",
        "}"
      ],
      "execution_count": 8,
      "outputs": [
        {
          "output_type": "stream",
          "text": [
            "Overwriting programa1.cpp\n"
          ],
          "name": "stdout"
        }
      ]
    },
    {
      "cell_type": "code",
      "metadata": {
        "id": "BjMaflzI-6bi"
      },
      "source": [
        "# compilando el código(crear el programa objeto-a.out)\n",
        "!g++ programa1.cpp"
      ],
      "execution_count": 9,
      "outputs": []
    },
    {
      "cell_type": "code",
      "metadata": {
        "colab": {
          "base_uri": "https://localhost:8080/"
        },
        "id": "p5QJGMkY_rtA",
        "outputId": "ae65d0b2-bc4d-4595-ec75-c9c97b91f7fc"
      },
      "source": [
        "#ejecutar el binario\n",
        "!./a.out"
      ],
      "execution_count": 10,
      "outputs": [
        {
          "output_type": "stream",
          "text": [
            "Introduccion a Colab"
          ],
          "name": "stdout"
        }
      ]
    },
    {
      "cell_type": "code",
      "metadata": {
        "colab": {
          "base_uri": "https://localhost:8080/"
        },
        "id": "BIv-HsHlANFS",
        "outputId": "37fb275a-007d-4422-bd4f-35f8e1b800e6"
      },
      "source": [
        "#en una sola linea\n",
        "!g++ programa1.cpp && ./a.out"
      ],
      "execution_count": 11,
      "outputs": [
        {
          "output_type": "stream",
          "text": [
            "Introduccion a Colab"
          ],
          "name": "stdout"
        }
      ]
    },
    {
      "cell_type": "code",
      "metadata": {
        "colab": {
          "base_uri": "https://localhost:8080/"
        },
        "id": "sJOF1gCeAmvq",
        "outputId": "cf440ab3-ace7-4e52-e340-4cd0487d768f"
      },
      "source": [
        "#renombrando la salida\n",
        "!g++ programa1.cpp -o upc.exe && ./upc.exe"
      ],
      "execution_count": 12,
      "outputs": [
        {
          "output_type": "stream",
          "text": [
            "Introduccion a Colab"
          ],
          "name": "stdout"
        }
      ]
    },
    {
      "cell_type": "code",
      "metadata": {
        "colab": {
          "base_uri": "https://localhost:8080/"
        },
        "id": "HS4atdMXBpW_",
        "outputId": "80fb5d9d-4199-4593-bf60-9410e8fb1173"
      },
      "source": [
        "#renombrando la salida y seleccionando el compilador\n",
        "#!g++ -std=c++11 programa1.cpp -o upc.exe && ./upc.exe\n",
        "!g++ -std=c++1z programa1.cpp -o upc.exe && ./upc.exe"
      ],
      "execution_count": 16,
      "outputs": [
        {
          "output_type": "stream",
          "text": [
            "Introduccion a Colab"
          ],
          "name": "stdout"
        }
      ]
    },
    {
      "cell_type": "markdown",
      "metadata": {
        "id": "QUCEad3LBSg9"
      },
      "source": [
        "##Templates"
      ]
    },
    {
      "cell_type": "markdown",
      "metadata": {
        "id": "-qfXkxBnJdkJ"
      },
      "source": [
        "##Forma anterior(Repetitivo en estructura)"
      ]
    },
    {
      "cell_type": "code",
      "metadata": {
        "colab": {
          "base_uri": "https://localhost:8080/"
        },
        "id": "S3HGGG8MA9EF",
        "outputId": "2c7c9b5d-a4a3-4e14-967c-e62c00bf793d"
      },
      "source": [
        "%%writefile programa2.cpp\n",
        "#include <iostream>\n",
        "using std::cout;\n",
        "typedef unsigned long long ull;\n",
        "typedef long long ll;\n",
        "class NumeroP{\n",
        "  ull e;\n",
        "  ull d;\n",
        "  public:  \n",
        "  NumeroP(ull e=0, ull d=0):e(e),d(d){ }\n",
        "  ull getE(){return e;}\n",
        "  void setE(ull e){this->e=e;}\n",
        "  ull getD(){return d;}\n",
        "  void setD(ull d){this->d=d;}\n",
        "  void add(NumeroP n){\n",
        "      e+=n.getE();\n",
        "      d+=n.getD();\n",
        "  }\n",
        "  void print(){  cout<<e<<\"\\t\"<<d<<\"\\n\";  }\n",
        "};\n",
        "class NumeroN{\n",
        "  ll e;\n",
        "  ll d;\n",
        "  public:  \n",
        "  NumeroN(ull e=0, ull d=0):e(e),d(d){ }\n",
        "  ull getE(){return e;}\n",
        "  void setE(ull e){this->e=e;}\n",
        "  ull getD(){return d;}\n",
        "  void setD(ull d){this->d=d;}\n",
        "  void add(NumeroN n){\n",
        "      e+=n.getE();\n",
        "      d+=n.getD();\n",
        "  }\n",
        "  void print(){  cout<<e<<\"\\t\"<<d<<\"\\n\";  }\n",
        "};\n",
        "int main(){\n",
        "  NumeroP n1;\n",
        "  NumeroP n2(10);\n",
        "  NumeroP n3(10,20);\n",
        "  NumeroN nn1;\n",
        "  NumeroN nn2(10);\n",
        "  NumeroN nn3(10,20);\n",
        "  n1.print();\n",
        "  n2.print();\n",
        "  n3.print();\n",
        "  return 0;\n",
        "}"
      ],
      "execution_count": 32,
      "outputs": [
        {
          "output_type": "stream",
          "text": [
            "Overwriting programa2.cpp\n"
          ],
          "name": "stdout"
        }
      ]
    },
    {
      "cell_type": "code",
      "metadata": {
        "colab": {
          "base_uri": "https://localhost:8080/"
        },
        "id": "5CrxccUBHUbq",
        "outputId": "c9d178ab-8bd8-4b66-a10d-9e52d078a576"
      },
      "source": [
        "!g++ -std=c++1y programa2.cpp -o upc.exe && ./upc.exe"
      ],
      "execution_count": 33,
      "outputs": [
        {
          "output_type": "stream",
          "text": [
            "0\t0\n",
            "10\t0\n",
            "10\t20\n"
          ],
          "name": "stdout"
        }
      ]
    },
    {
      "cell_type": "code",
      "metadata": {
        "colab": {
          "base_uri": "https://localhost:8080/"
        },
        "id": "fl_siIv7HXTT",
        "outputId": "e881dffc-de33-45e3-a61d-6cd364cf4ca4"
      },
      "source": [
        "%%writefile programa2.cpp\n",
        "#include <iostream>\n",
        "using std::cout;\n",
        "typedef unsigned long long ull;\n",
        "typedef long long ll;\n",
        "template <class T>\n",
        "class Numero{\n",
        "  T e;\n",
        "  T d;\n",
        "  public:  \n",
        "  Numero(T e, T d):e(e),d(d){ }\n",
        "  T getE(){return e;}\n",
        "  void setE(T e){this->e=e;}\n",
        "  T getD(){return d;}\n",
        "  void setD(T d){this->d=d;}\n",
        "  void add(Numero n){\n",
        "      e+=n.getE();\n",
        "      d+=n.getD();\n",
        "  }\n",
        "  void print(){  cout<<e<<\"\\t\"<<d<<\"\\n\";  }\n",
        "};\n",
        "\n",
        "int main(){\n",
        "  Numero<ull> n1(10,20); \n",
        "  Numero<ll> n2(-10,-20); \n",
        "  Numero<int> n3(1,2); \n",
        "  Numero<double> n4(10.23,20.56); \n",
        "  Numero<short> n5(10,20); \n",
        "  Numero<float> n6(10.8,20.9); \n",
        "  n1.print();  \n",
        "  return 0;\n",
        "}"
      ],
      "execution_count": 40,
      "outputs": [
        {
          "output_type": "stream",
          "text": [
            "Overwriting programa2.cpp\n"
          ],
          "name": "stdout"
        }
      ]
    },
    {
      "cell_type": "code",
      "metadata": {
        "colab": {
          "base_uri": "https://localhost:8080/"
        },
        "id": "l0Kn-JVDKLkO",
        "outputId": "875cb6e2-0296-4203-9dfb-43f21927d9f4"
      },
      "source": [
        "!g++ -std=c++1y programa2.cpp -o upc.exe && ./upc.exe"
      ],
      "execution_count": 41,
      "outputs": [
        {
          "output_type": "stream",
          "text": [
            "10\t20\n"
          ],
          "name": "stdout"
        }
      ]
    },
    {
      "cell_type": "code",
      "metadata": {
        "colab": {
          "base_uri": "https://localhost:8080/"
        },
        "id": "3gNErEYKKOC4",
        "outputId": "ac6110b9-0607-4e0a-de2b-c1e6e8948cca"
      },
      "source": [
        "%%writefile templates.cpp\n",
        "#include <iostream>\n",
        "#include <string>\n",
        "using std::string;\n",
        "struct Enemy{\n",
        "    string name;\n",
        "    unsigned short points;\n",
        "\n",
        "    Enemy(string name=\" \",unsigned short points=0):name(name),points(points){}\n",
        "};\n",
        "class Weapon{    \n",
        "    string model;\n",
        "    public:  \n",
        "    Weapon(string model=\" \"):model(model){  }  \n",
        "};\n",
        "class Leader{\n",
        "    string name;\n",
        "    public:  \n",
        "    Leader(){}\n",
        "};\n",
        "\n",
        "template <class T>\n",
        "class Array{\n",
        "  T* arr;\n",
        "  unsigned short i;\n",
        "  public:\n",
        "  Array(){\n",
        "      arr=new T[10];\n",
        "      i=0;\n",
        "  }\n",
        "  void insert(T t){\n",
        "      if(i<10){\n",
        "        arr[i]=t;\n",
        "        ++i;    \n",
        "      }      \n",
        "  }\n",
        "};\n",
        "int main(){\n",
        "    Array<Enemy> enemigos;\n",
        "    Array<Weapon> armas;\n",
        "    Array<Leader> personajes;\n",
        "    for(size_t i=0;i<10;++i){        \n",
        "        enemigos.insert(Enemy(\"xyz\",i));\n",
        "        armas.insert(Weapon(\"mno\"));\n",
        "        personajes.insert(Leader());\n",
        "\n",
        "    }\n",
        "}"
      ],
      "execution_count": 66,
      "outputs": [
        {
          "output_type": "stream",
          "text": [
            "Overwriting templates.cpp\n"
          ],
          "name": "stdout"
        }
      ]
    },
    {
      "cell_type": "code",
      "metadata": {
        "id": "D0HUXiyhOlr3"
      },
      "source": [
        "!g++ -std=c++1y templates.cpp -o upc.exe && ./upc.exe"
      ],
      "execution_count": 67,
      "outputs": []
    },
    {
      "cell_type": "markdown",
      "metadata": {
        "id": "sAfXzjDSQxuz"
      },
      "source": [
        "#Tarea:\n",
        "* Implementar Templates en el proyecto de fin de curso de programación 2"
      ]
    },
    {
      "cell_type": "code",
      "metadata": {
        "id": "u6DpXC5VO6Hh"
      },
      "source": [
        ""
      ],
      "execution_count": null,
      "outputs": []
    }
  ]
}