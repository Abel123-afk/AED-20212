{
  "nbformat": 4,
  "nbformat_minor": 0,
  "metadata": {
    "colab": {
      "name": "Semana2.ipynb",
      "provenance": [],
      "toc_visible": true,
      "authorship_tag": "ABX9TyPRlJxx2WsTYUzDQALzhQxY"
    },
    "kernelspec": {
      "name": "python3",
      "display_name": "Python 3"
    },
    "language_info": {
      "name": "python"
    }
  },
  "cells": [
    {
      "cell_type": "markdown",
      "metadata": {
        "id": "s8165vMgkUMn"
      },
      "source": [
        "# Temario\n",
        "1. Colab-MD\n",
        "2. Compilación manual\n",
        "3. Templates"
      ]
    },
    {
      "cell_type": "markdown",
      "metadata": {
        "id": "or8KYaeSngd2"
      },
      "source": [
        "## Compilación Manual"
      ]
    },
    {
      "cell_type": "code",
      "metadata": {
        "colab": {
          "base_uri": "https://localhost:8080/"
        },
        "id": "mGpCTCqggpM-",
        "outputId": "81ea6b1b-62b4-41e3-f1ec-36854bdf91f1"
      },
      "source": [
        "%%writefile programa1.cpp\n",
        "#include <iostream>\n",
        "using std::cout;\n",
        "int main(){\n",
        "  cout<<\"UPCinos\";\n",
        "}"
      ],
      "execution_count": 3,
      "outputs": [
        {
          "output_type": "stream",
          "text": [
            "Overwriting programa1.cpp\n"
          ],
          "name": "stdout"
        }
      ]
    },
    {
      "cell_type": "code",
      "metadata": {
        "id": "fDkry8aliqRY"
      },
      "source": [
        "#compilar el archivo \"cpp\"\n",
        "!g++ programa1.cpp"
      ],
      "execution_count": 4,
      "outputs": []
    },
    {
      "cell_type": "code",
      "metadata": {
        "colab": {
          "base_uri": "https://localhost:8080/"
        },
        "id": "JBLSFdT1i051",
        "outputId": "59f452d9-a730-4f19-baf6-ff6312e9f1a8"
      },
      "source": [
        "#ejecucion\n",
        "!./a.out"
      ],
      "execution_count": 5,
      "outputs": [
        {
          "output_type": "stream",
          "text": [
            "UPCinos"
          ],
          "name": "stdout"
        }
      ]
    },
    {
      "cell_type": "code",
      "metadata": {
        "colab": {
          "base_uri": "https://localhost:8080/"
        },
        "id": "0ObvJuW-jPi5",
        "outputId": "cbd22633-cd09-436b-a0dd-eb6c97ecaf07"
      },
      "source": [
        "!g++ programa1.cpp && ./a.out"
      ],
      "execution_count": 6,
      "outputs": [
        {
          "output_type": "stream",
          "text": [
            "UPCinos"
          ],
          "name": "stdout"
        }
      ]
    },
    {
      "cell_type": "code",
      "metadata": {
        "colab": {
          "base_uri": "https://localhost:8080/"
        },
        "id": "dBCWaXXBjX6M",
        "outputId": "39413d3b-91a6-4564-9ee7-5641f209fe71"
      },
      "source": [
        "!g++ -std=c++1z -Wall programa1.cpp -o programa.exe && ./programa.exe"
      ],
      "execution_count": 11,
      "outputs": [
        {
          "output_type": "stream",
          "text": [
            "UPCinos"
          ],
          "name": "stdout"
        }
      ]
    },
    {
      "cell_type": "markdown",
      "metadata": {
        "id": "RsvIUVDmnc0m"
      },
      "source": [
        "## Templates"
      ]
    },
    {
      "cell_type": "code",
      "metadata": {
        "colab": {
          "base_uri": "https://localhost:8080/"
        },
        "id": "esNxWixfjpiz",
        "outputId": "c1c89044-87dc-4604-dbac-4585baff422f"
      },
      "source": [
        "%%writefile sinTemplates.cpp\n",
        "typedef unsigned long long ul;\n",
        "class BigNumber{\n",
        "    ul n1;\n",
        "    ul n2;\n",
        "    public:    \n",
        "      BigNumber(ul n1=0,ul n2=0):n1(n1),n2(n2){}      \n",
        "};\n",
        "class BigNumber1{\n",
        "    int n1;\n",
        "    int n2;\n",
        "    public:    \n",
        "      BigNumber1(int n1=0,int n2=0):n1(n1),n2(n2){}      \n",
        "};\n",
        "class BigNumber2{\n",
        "    float n1;\n",
        "    float n2;\n",
        "    public:    \n",
        "      BigNumber2(float n1=0,float n2=0):n1(n1),n2(n2){}      \n",
        "};\n",
        "int main(){\n",
        "    BigNumber n;\n",
        "    BigNumber1 n1;\n",
        "    BigNumber2 n2;\n",
        "    return 0;\n",
        "}"
      ],
      "execution_count": 16,
      "outputs": [
        {
          "output_type": "stream",
          "text": [
            "Overwriting sinTemplates.cpp\n"
          ],
          "name": "stdout"
        }
      ]
    },
    {
      "cell_type": "code",
      "metadata": {
        "id": "NsJc4uKJq5t2"
      },
      "source": [
        "!g++ sinTemplates.cpp && ./a.out"
      ],
      "execution_count": 17,
      "outputs": []
    },
    {
      "cell_type": "code",
      "metadata": {
        "colab": {
          "base_uri": "https://localhost:8080/"
        },
        "id": "91vdLhp6rD-d",
        "outputId": "ba5d501b-828a-415d-fba5-f9ff47efcf4b"
      },
      "source": [
        "%%writefile conTemplates.cpp\n",
        "#include <iostream>\n",
        "using std::cout;\n",
        "using std::endl;\n",
        "typedef unsigned long long ul;\n",
        "template <class Tipo>\n",
        "class BigNumber{\n",
        "    Tipo n1;\n",
        "    Tipo n2;\n",
        "    public:    \n",
        "      BigNumber(Tipo n1=0,Tipo n2=0):n1(n1),n2(n2){}\n",
        "      Tipo getN1(){return n1;}  \n",
        "};\n",
        "int main(){\n",
        "    BigNumber<ul> n(159632145,123454859);\n",
        "    BigNumber<int> n1(14.3,3.87);\n",
        "    BigNumber<float> n2(14.3,3.87);\n",
        "    BigNumber<short> n3;\n",
        "    BigNumber<double> n4;\n",
        "    cout<<n1.getN1()<<endl;\n",
        "    cout<<n2.getN1()<<\"\\n\";\n",
        "    return 0;\n",
        "}"
      ],
      "execution_count": 25,
      "outputs": [
        {
          "output_type": "stream",
          "text": [
            "Overwriting conTemplates.cpp\n"
          ],
          "name": "stdout"
        }
      ]
    },
    {
      "cell_type": "code",
      "metadata": {
        "colab": {
          "base_uri": "https://localhost:8080/"
        },
        "id": "gbiUIJCsrcar",
        "outputId": "d1df08a7-6145-416a-9726-afa7fc1d3b4a"
      },
      "source": [
        "!g++ conTemplates.cpp && ./a.out"
      ],
      "execution_count": 26,
      "outputs": [
        {
          "output_type": "stream",
          "text": [
            "14\n",
            "14.3\n"
          ],
          "name": "stdout"
        }
      ]
    },
    {
      "cell_type": "code",
      "metadata": {
        "id": "lUkMOeeLrd5p"
      },
      "source": [
        ""
      ],
      "execution_count": null,
      "outputs": []
    }
  ]
}