{
  "nbformat": 4,
  "nbformat_minor": 0,
  "metadata": {
    "colab": {
      "name": "Semana2.ipynb",
      "provenance": [],
      "collapsed_sections": [],
      "toc_visible": true,
      "authorship_tag": "ABX9TyPjFmK65TA5GRNhzmcIXc9M"
    },
    "kernelspec": {
      "name": "python3",
      "display_name": "Python 3"
    },
    "language_info": {
      "name": "python"
    }
  },
  "cells": [
    {
      "cell_type": "markdown",
      "metadata": {
        "id": "6qKutR4G0M-3"
      },
      "source": [
        "## Temario\n",
        "1. Colab / Markdown\n",
        "2. Github(Control de versiones)\n",
        "3. Compilación por terminal\n",
        "4. Templates"
      ]
    },
    {
      "cell_type": "code",
      "metadata": {
        "colab": {
          "base_uri": "https://localhost:8080/"
        },
        "id": "oczLA3Mvx5J-",
        "outputId": "77bd6668-0190-4884-e309-c869bde618ed"
      },
      "source": [
        "%%writefile programa1.cpp\n",
        "#include <iostream>\n",
        "using namespace std;\n",
        "int main(){\n",
        "cout<<\"hola mundo\";\n",
        "\n",
        "  return 0;\n",
        "}"
      ],
      "execution_count": 5,
      "outputs": [
        {
          "output_type": "stream",
          "text": [
            "Overwriting programa1.cpp\n"
          ],
          "name": "stdout"
        }
      ]
    },
    {
      "cell_type": "code",
      "metadata": {
        "id": "8xowCpTTz16F"
      },
      "source": [
        "#compilacion\n",
        "#\"!\"\" ejecución de comandos por shell(comandos de sistema operativo)\n",
        "#g++ compilador de c++\n",
        "!g++ programa1.cpp"
      ],
      "execution_count": 6,
      "outputs": []
    },
    {
      "cell_type": "code",
      "metadata": {
        "colab": {
          "base_uri": "https://localhost:8080/"
        },
        "id": "pSsS0XKB4ULJ",
        "outputId": "ec76733a-6c4d-46d1-8c88-aaf2347549de"
      },
      "source": [
        "!./a.out"
      ],
      "execution_count": 7,
      "outputs": [
        {
          "output_type": "stream",
          "text": [
            "hola mundo"
          ],
          "name": "stdout"
        }
      ]
    },
    {
      "cell_type": "code",
      "metadata": {
        "colab": {
          "base_uri": "https://localhost:8080/"
        },
        "id": "w1TpXC5Q408-",
        "outputId": "fb514c5c-951b-442f-da08-06d9ca46d8df"
      },
      "source": [
        "!g++ programa1.cpp && ./a.out"
      ],
      "execution_count": 8,
      "outputs": [
        {
          "output_type": "stream",
          "text": [
            "hola mundo"
          ],
          "name": "stdout"
        }
      ]
    },
    {
      "cell_type": "code",
      "metadata": {
        "colab": {
          "base_uri": "https://localhost:8080/"
        },
        "id": "jmmtUlI95BjQ",
        "outputId": "2fc6bdac-045e-4a21-c50d-4b047560f716"
      },
      "source": [
        "!g++ programa1.cpp -o upc.exe && ./upc.exe"
      ],
      "execution_count": 9,
      "outputs": [
        {
          "output_type": "stream",
          "text": [
            "hola mundo"
          ],
          "name": "stdout"
        }
      ]
    },
    {
      "cell_type": "code",
      "metadata": {
        "colab": {
          "base_uri": "https://localhost:8080/"
        },
        "id": "MkihYE1n5n71",
        "outputId": "f860b735-0fa3-4178-e6b8-513ff33c75a7"
      },
      "source": [
        "!g++ -std=c++1z programa1.cpp -o upc.exe && ./upc.exe"
      ],
      "execution_count": 12,
      "outputs": [
        {
          "output_type": "stream",
          "text": [
            "hola mundo"
          ],
          "name": "stdout"
        }
      ]
    },
    {
      "cell_type": "markdown",
      "metadata": {
        "id": "0JJ-GHUc9Txr"
      },
      "source": [
        "## Ejemplo1\n",
        "### Sin templates"
      ]
    },
    {
      "cell_type": "code",
      "metadata": {
        "colab": {
          "base_uri": "https://localhost:8080/"
        },
        "id": "QmxEB8kY55aE",
        "outputId": "f2610dda-6af5-4010-ecc8-ea8cc1eb8d15"
      },
      "source": [
        "%%writefile SinTemplates.cpp\n",
        "\n",
        "#include<iostream>\n",
        "using std::cout;\n",
        "using std::endl;\n",
        "typedef unsigned long long ull;\n",
        "class BigNumber{\n",
        "    ull n1;\n",
        "    ull n2;\n",
        "    public:\n",
        "      BigNumber(ull n1=0,ull n2=0):n1(n1),n2(n2){ }\n",
        "      void print(){cout<<n1<<\" \"<<n2<<endl;}\n",
        "};\n",
        "class BigNumberF{\n",
        "    float n1;\n",
        "    float n2;\n",
        "    public:\n",
        "      BigNumberF(float n1=0,float n2=0):n1(n1),n2(n2){ }\n",
        "      void print(){cout<<n1<<\" \"<<n2<<endl;}\n",
        "};\n",
        "int main(){\n",
        "    BigNumber n1;\n",
        "    BigNumber n2(1);\n",
        "    BigNumber n3(1,2);\n",
        "    n1.print();\n",
        "    n2.print();\n",
        "    n3.print();\n",
        "    return 0;\n",
        "}"
      ],
      "execution_count": 30,
      "outputs": [
        {
          "output_type": "stream",
          "text": [
            "Writing SinTemplates.cpp\n"
          ],
          "name": "stdout"
        }
      ]
    },
    {
      "cell_type": "code",
      "metadata": {
        "colab": {
          "base_uri": "https://localhost:8080/"
        },
        "id": "uycKzLwo8VWp",
        "outputId": "efb1249f-0ef8-4576-f269-f5b75ad06458"
      },
      "source": [
        "!!g++ -std=c++11 SinTemplates.cpp -o upc.exe && ./upc.exe"
      ],
      "execution_count": 31,
      "outputs": [
        {
          "output_type": "execute_result",
          "data": {
            "text/plain": [
              "['0 0', '1 0', '1 2']"
            ]
          },
          "metadata": {},
          "execution_count": 31
        }
      ]
    },
    {
      "cell_type": "markdown",
      "metadata": {
        "id": "FQtUmQL-DErr"
      },
      "source": [
        "### Con templates"
      ]
    },
    {
      "cell_type": "code",
      "metadata": {
        "colab": {
          "base_uri": "https://localhost:8080/"
        },
        "id": "icRf3NtM-CbZ",
        "outputId": "4a33e3a9-24d3-4179-f147-469853205485"
      },
      "source": [
        "%%writefile ConTemplates.cpp\n",
        "#include<iostream>\n",
        "using std::cout;\n",
        "using std::endl;\n",
        "typedef unsigned long long ull;\n",
        "template <class Tipo>\n",
        "class BigNumber{\n",
        "    Tipo n1;\n",
        "    Tipo n2;\n",
        "    public:\n",
        "      BigNumber(Tipo n1,Tipo n2):n1(n1),n2(n2){ }\n",
        "      void print(){cout<<n1<<\" \"<<n2<<endl;}\n",
        "};\n",
        "\n",
        "int main(){\n",
        "    BigNumber<short> n1(1,1);\n",
        "    BigNumber<int> n2(2,2);\n",
        "    BigNumber<long> n3(3,3);\n",
        "    BigNumber<double> n4(4.32,4.78);\n",
        "    BigNumber<float> n5(5.2f,5.9f);\n",
        "    BigNumber<ull> n6(6,6);    \n",
        "    n1.print();\n",
        "    n4.print();\n",
        "    n5.print();\n",
        "    return 0;\n",
        "}"
      ],
      "execution_count": 40,
      "outputs": [
        {
          "output_type": "stream",
          "text": [
            "Overwriting ConTemplates.cpp\n"
          ],
          "name": "stdout"
        }
      ]
    },
    {
      "cell_type": "code",
      "metadata": {
        "colab": {
          "base_uri": "https://localhost:8080/"
        },
        "id": "T8P8B29YABBW",
        "outputId": "5b329033-68c3-4036-b37c-40f830ed3ce7"
      },
      "source": [
        "!!g++ -std=c++11 ConTemplates.cpp -o upc.exe && ./upc.exe"
      ],
      "execution_count": 41,
      "outputs": [
        {
          "output_type": "execute_result",
          "data": {
            "text/plain": [
              "['1 1', '4.32 4.78', '5.2 5.9']"
            ]
          },
          "metadata": {},
          "execution_count": 41
        }
      ]
    },
    {
      "cell_type": "markdown",
      "metadata": {
        "id": "aqeTAx67DTVh"
      },
      "source": [
        "## Ejemplo2"
      ]
    },
    {
      "cell_type": "code",
      "metadata": {
        "colab": {
          "base_uri": "https://localhost:8080/"
        },
        "id": "t9GfWnomADwv",
        "outputId": "05a579d3-038c-4213-cffb-121425bac123"
      },
      "source": [
        "%%writefile microproyecto.cpp\n",
        "#include <string>\n",
        "\n",
        "using std::string;\n",
        "\n",
        "class Person{    \n",
        "  string name;\n",
        "};\n",
        "struct Atlas{\n",
        "    short id;\n",
        "};\n",
        "class Weapon{\n",
        "    string model;\n",
        "};\n",
        "template <class Tipo>\n",
        "class  Array{\n",
        "   Tipo* arr;\n",
        "   unsigned short idx;\n",
        "   public:\n",
        "   Array(){\n",
        "       arr=new Tipo[10];\n",
        "       idx=0;\n",
        "   } \n",
        "    void insert(Tipo t){\n",
        "        if(idx<10)\n",
        "        {arr[idx]=t;\n",
        "        idx++;\n",
        "         }\n",
        "    }\n",
        "};\n",
        "int main(){\n",
        "    //declaracion\n",
        "    //tipos de datos compuestos(clases y/o estructuras)\n",
        "    Array<Person> personas;\n",
        "    Array<Atlas> atlas;\n",
        "    Array<Weapon> armas;\n",
        "    \n",
        "    //primitivos\n",
        "    Array<short> numeros;\n",
        "    Array<char> caracteres;\n",
        "    //invocacion de metodos\n",
        "    personas.insert(Person());\n",
        "    for(int i=0;i<10;++i)\n",
        "    numeros.insert(i);\n",
        "\n",
        "}\n",
        "\n",
        "\n",
        "/*\n",
        "class CPerson{\n",
        "    Person* arr;\n",
        "    short idx;\n",
        "    public:\n",
        "    CPerson(){\n",
        "        arr=new Person[100];\n",
        "        idx=0;\n",
        "    }\n",
        "    void insert(Person p){\n",
        "        arr[idx]=p;\n",
        "        idx++;\n",
        "    }\n",
        "    //insert, delete, search, move,etc.....\n",
        "\n",
        "};\n",
        "class CWeapon{\n",
        "    Weapon* arr;\n",
        "    short idx;\n",
        "    CWeapon(){\n",
        "     \n",
        "    }\n",
        "    void insert(Weapon w){\n",
        "        arr[idx]=w;\n",
        "        idx++;\n",
        "    }\n",
        "    //insert, delete, search, move,etc.....\n",
        "};*/\n",
        "\n",
        "\n"
      ],
      "execution_count": 52,
      "outputs": [
        {
          "output_type": "stream",
          "text": [
            "Overwriting microproyecto.cpp\n"
          ],
          "name": "stdout"
        }
      ]
    },
    {
      "cell_type": "code",
      "metadata": {
        "colab": {
          "base_uri": "https://localhost:8080/"
        },
        "id": "dSvfmwsQG2ZI",
        "outputId": "8196b35c-6ea8-4172-8aeb-c57132bd34be"
      },
      "source": [
        "!!g++ -std=c++11 microproyecto.cpp -o upc.exe && ./upc.exe"
      ],
      "execution_count": 53,
      "outputs": [
        {
          "output_type": "execute_result",
          "data": {
            "text/plain": [
              "[]"
            ]
          },
          "metadata": {},
          "execution_count": 53
        }
      ]
    },
    {
      "cell_type": "code",
      "metadata": {
        "id": "AYOEae3NG79b"
      },
      "source": [
        ""
      ],
      "execution_count": null,
      "outputs": []
    }
  ]
}