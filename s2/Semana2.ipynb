{
  "nbformat": 4,
  "nbformat_minor": 0,
  "metadata": {
    "colab": {
      "name": "Semana2.ipynb",
      "provenance": [],
      "toc_visible": true,
      "authorship_tag": "ABX9TyORAAPYVQOl7hacz1xEqtPx"
    },
    "kernelspec": {
      "name": "python3",
      "display_name": "Python 3"
    },
    "language_info": {
      "name": "python"
    }
  },
  "cells": [
    {
      "cell_type": "markdown",
      "metadata": {
        "id": "RVSFZGM3dOk1"
      },
      "source": [
        "#Temario\n",
        "1. Intro Colab\n",
        "1. Compilacion por terminal\n",
        "1. Templates\n",
        "\n",
        "## Compilación"
      ]
    },
    {
      "cell_type": "code",
      "metadata": {
        "colab": {
          "base_uri": "https://localhost:8080/"
        },
        "id": "IRb_TzMJV-VG",
        "outputId": "84fa81d3-e819-41e0-b007-279ea8bb8f8f"
      },
      "source": [
        "%%writefile programa1.cpp\n",
        "#include <iostream>\n",
        "using namespace std;\n",
        "int main(){\n",
        "  cout<<\"Intro a Colab\";\n",
        "  return 0;  \n",
        "}"
      ],
      "execution_count": 7,
      "outputs": [
        {
          "output_type": "stream",
          "text": [
            "Overwriting programa1.cpp\n"
          ],
          "name": "stdout"
        }
      ]
    },
    {
      "cell_type": "code",
      "metadata": {
        "id": "zPpOx43EYyKp"
      },
      "source": [
        "#compilar el código\n",
        "!g++ programa1.cpp"
      ],
      "execution_count": 8,
      "outputs": []
    },
    {
      "cell_type": "code",
      "metadata": {
        "colab": {
          "base_uri": "https://localhost:8080/"
        },
        "id": "6LHjTvJ6Z0_l",
        "outputId": "275239ea-604e-420c-bc48-f7b8153c47ea"
      },
      "source": [
        "#ejecutar el programa objeto\n",
        "!./a.out"
      ],
      "execution_count": 9,
      "outputs": [
        {
          "output_type": "stream",
          "text": [
            "Intro a Colab"
          ],
          "name": "stdout"
        }
      ]
    },
    {
      "cell_type": "code",
      "metadata": {
        "colab": {
          "base_uri": "https://localhost:8080/"
        },
        "id": "KjeZGasqaNyS",
        "outputId": "86f29663-2d5b-4abc-8348-6ac95ae9ca8f"
      },
      "source": [
        "!g++ programa1.cpp && ./a.out"
      ],
      "execution_count": 10,
      "outputs": [
        {
          "output_type": "stream",
          "text": [
            "Intro a Colab"
          ],
          "name": "stdout"
        }
      ]
    },
    {
      "cell_type": "code",
      "metadata": {
        "colab": {
          "base_uri": "https://localhost:8080/"
        },
        "id": "X9ZrPbmBacBq",
        "outputId": "73adf0f8-47fa-4e9a-9ac8-a321d7a46e85"
      },
      "source": [
        "!g++ programa1.cpp -std=c++1z -Wall -o upc.exe && ./upc.exe"
      ],
      "execution_count": 16,
      "outputs": [
        {
          "output_type": "stream",
          "text": [
            "Intro a Colab"
          ],
          "name": "stdout"
        }
      ]
    },
    {
      "cell_type": "markdown",
      "metadata": {
        "id": "Yp5LTiENdsfK"
      },
      "source": [
        "## Templates"
      ]
    },
    {
      "cell_type": "code",
      "metadata": {
        "colab": {
          "base_uri": "https://localhost:8080/"
        },
        "id": "MFLpUY8rbno0",
        "outputId": "d1b1cf67-8aef-4348-97f9-063274492c73"
      },
      "source": [
        "%%writefile sinTemplates.cpp\n",
        "class Operacion{\n",
        "    public:\n",
        "    Operacion(){\n",
        "        this->n1=0;\n",
        "        this->n2=0;\n",
        "    }\n",
        "    Operacion(short n1){\n",
        "        this->n1=n1;\n",
        "        this->n2=0;\n",
        "    }\n",
        "    Operacion(short n1, short n2){\n",
        "        this->n1=n1;\n",
        "        this->n2=n2;\n",
        "    }\n",
        "    private:\n",
        "    short n1;\n",
        "    short n2;\n",
        "};\n",
        "int main(){\n",
        "    Operacion o1;\n",
        "    Operacion o2(10);\n",
        "    Operacion o3(10,20);\n",
        "    return 0;\n",
        "}"
      ],
      "execution_count": 19,
      "outputs": [
        {
          "output_type": "stream",
          "text": [
            "Overwriting sinTemplates.cpp\n"
          ],
          "name": "stdout"
        }
      ]
    },
    {
      "cell_type": "code",
      "metadata": {
        "id": "ICt3wt5ZhtLD"
      },
      "source": [
        "!g++ sinTemplates.cpp -std=c++1z -Wall -o upc.exe && ./upc.exe"
      ],
      "execution_count": 20,
      "outputs": []
    },
    {
      "cell_type": "code",
      "metadata": {
        "colab": {
          "base_uri": "https://localhost:8080/"
        },
        "id": "wLFCdnXLhvlw",
        "outputId": "91d491a8-16c8-4cf9-e93a-386d726a9ed3"
      },
      "source": [
        "%%writefile sinTemplates.cpp\n",
        "#include <iostream>\n",
        "using std::cout;\n",
        "using std::endl;\n",
        "typedef unsigned long long ull;\n",
        "class Operacion1{\n",
        "    public:\n",
        "    Operacion1(short n1=0, short n2=0):n1(n1),n2(n2){}\n",
        "    short suma(){return n1+n2;}\n",
        "    private:\n",
        "    short n1;\n",
        "    short n2;\n",
        "};\n",
        "class Operacion2{\n",
        "    public:\n",
        "    Operacion2(long n1=0, long n2=0):n1(n1),n2(n2){}\n",
        "    long suma(){return n1+n2;}\n",
        "    private:\n",
        "    long n1;\n",
        "    long n2;\n",
        "};\n",
        "class Operacion3{\n",
        "    public:\n",
        "    Operacion3(ull n1=0, ull n2=0):n1(n1),n2(n2){}\n",
        "    ull suma(){return n1+n2;}\n",
        "    private:\n",
        "    ull n1;\n",
        "    ull n2;\n",
        "};\n",
        "class Operacion4{\n",
        "    public:\n",
        "    Operacion4(float n1=0, float n2=0):n1(n1),n2(n2){}\n",
        "    float suma(){return n1+n2;}\n",
        "    private:\n",
        "    float n1;\n",
        "    float n2;\n",
        "};\n",
        "int main(){\n",
        "    Operacion1 o1(123456789.23,1000.15);\n",
        "    Operacion2 o2(123456789.23,1000.15);\n",
        "    Operacion3 o3(123456789.23,1000.15);\n",
        "    Operacion4 o4(123456789.23,1000.15);\n",
        "    cout<<o1.suma()<<endl;\n",
        "    cout<<o2.suma()<<endl;\n",
        "    cout<<o3.suma()<<endl;\n",
        "    cout<<o4.suma()<<endl;\n",
        "\n",
        "    return 0;\n",
        "}"
      ],
      "execution_count": 24,
      "outputs": [
        {
          "output_type": "stream",
          "text": [
            "Overwriting sinTemplates.cpp\n"
          ],
          "name": "stdout"
        }
      ]
    },
    {
      "cell_type": "code",
      "metadata": {
        "colab": {
          "base_uri": "https://localhost:8080/"
        },
        "id": "SVMkGMaFil1x",
        "outputId": "321a9e83-6d2e-4f73-df8c-d090d581a190"
      },
      "source": [
        "!g++ sinTemplates.cpp -std=c++1z -Wall -o upc.exe && ./upc.exe"
      ],
      "execution_count": 25,
      "outputs": [
        {
          "output_type": "stream",
          "text": [
            "\u001b[01m\u001b[KsinTemplates.cpp:\u001b[m\u001b[K In function ‘\u001b[01m\u001b[Kint main()\u001b[m\u001b[K’:\n",
            "\u001b[01m\u001b[KsinTemplates.cpp:38:39:\u001b[m\u001b[K \u001b[01;35m\u001b[Kwarning: \u001b[m\u001b[Koverflow in implicit constant conversion [\u001b[01;35m\u001b[K-Woverflow\u001b[m\u001b[K]\n",
            "     Operacion1 o1(123456789.23,1000.15\u001b[01;35m\u001b[K)\u001b[m\u001b[K;\n",
            "                                       \u001b[01;35m\u001b[K^\u001b[m\u001b[K\n",
            "-31769\n",
            "123457789\n",
            "123457789\n",
            "1.23458e+08\n"
          ],
          "name": "stdout"
        }
      ]
    },
    {
      "cell_type": "code",
      "metadata": {
        "colab": {
          "base_uri": "https://localhost:8080/"
        },
        "id": "NcUKQoOdk0BQ",
        "outputId": "fe5d8bef-5c78-4346-f292-c9a91bd61b96"
      },
      "source": [
        "#hola, esto es un comentario\n",
        "%%writefile conTemplates.cpp\n",
        "#include <iostream>//hola esto es un comentario\n",
        "using std::cout;\n",
        "using std::endl;\n",
        "typedef unsigned long long ull;\n",
        "template <class Tipo>\n",
        "class Operacion{\n",
        "    public:\n",
        "      Operacion(Tipo n1=0, Tipo n2=0):n1(n1),n2(n2){}\n",
        "      Tipo suma(){return n1+n2;}\n",
        "    private:\n",
        "      Tipo n1;\n",
        "      Tipo n2;\n",
        "};\n",
        "int main(){\n",
        "    Operacion<short> o1(123456789.23,1000.15);\n",
        "    Operacion<long> o2(123456789.23,1000.15);\n",
        "    Operacion<ull> o3(123456789.23,1000.15);\n",
        "    Operacion<float> o4(123456789.23,1000.15);\n",
        "    cout<<o1.suma()<<endl;\n",
        "    cout<<o2.suma()<<endl;\n",
        "    cout<<o3.suma()<<endl;\n",
        "    cout<<o4.suma()<<endl;\n",
        "    return 0;\n",
        "}"
      ],
      "execution_count": 30,
      "outputs": [
        {
          "output_type": "stream",
          "text": [
            "Overwriting conTemplates.cpp\n"
          ],
          "name": "stdout"
        }
      ]
    },
    {
      "cell_type": "code",
      "metadata": {
        "colab": {
          "base_uri": "https://localhost:8080/"
        },
        "id": "OkDrlG9hmYqH",
        "outputId": "e9b3d23a-53e6-4592-94c4-26804fda94f3"
      },
      "source": [
        "!g++ conTemplates.cpp -std=c++1z -Wall -o upc.exe && ./upc.exe"
      ],
      "execution_count": 29,
      "outputs": [
        {
          "output_type": "stream",
          "text": [
            "\u001b[01m\u001b[KconTemplates.cpp:\u001b[m\u001b[K In function ‘\u001b[01m\u001b[Kint main()\u001b[m\u001b[K’:\n",
            "\u001b[01m\u001b[KconTemplates.cpp:15:45:\u001b[m\u001b[K \u001b[01;35m\u001b[Kwarning: \u001b[m\u001b[Koverflow in implicit constant conversion [\u001b[01;35m\u001b[K-Woverflow\u001b[m\u001b[K]\n",
            "     Operacion<short> o1(123456789.23,1000.15\u001b[01;35m\u001b[K)\u001b[m\u001b[K;\n",
            "                                             \u001b[01;35m\u001b[K^\u001b[m\u001b[K\n",
            "-31769\n",
            "123457789\n",
            "123457789\n",
            "1.23458e+08\n"
          ],
          "name": "stdout"
        }
      ]
    },
    {
      "cell_type": "code",
      "metadata": {
        "colab": {
          "base_uri": "https://localhost:8080/"
        },
        "id": "0rEBfP2KmbmY",
        "outputId": "493c06df-8e31-41e6-c313-dec33d5fc0a2"
      },
      "source": [
        "%%writefile proyecto.cpp\n",
        "#include <iostream>\n",
        "#include <string>\n",
        "using namespace std;\n",
        "struct Dispositivo{\n",
        "    string modelo;\n",
        "    Dispositivo(){modelo=\"Samsung\";}\n",
        "};\n",
        "class Enemigo{\n",
        "    string nombre;\n",
        "    public:\n",
        "    Enemigo(){nombre=\"Sars0\";}\n",
        "    string getNombre(){return nombre;}\n",
        "};\n",
        "class Herramienta{\n",
        "    string nombre;\n",
        "    public:\n",
        "    Herramienta(){nombre=\"\";}\n",
        "};\n",
        "class Portal{\n",
        "    short id;\n",
        "    public:\n",
        "    Portal(){id=1;}\n",
        "};\n",
        "template <class Tipo>\n",
        "class Arreglo{\n",
        "  Tipo* arr;\n",
        "  unsigned long idx;\n",
        "  public:\n",
        "    Arreglo(){\n",
        "        idx=0;\n",
        "        arr=new Tipo[100];\n",
        "    }\n",
        "    void insertar(Tipo o){\n",
        "        if(idx<100)\n",
        "          arr[idx++]=o;\n",
        "    }\n",
        "    Tipo getXpos(int p){return arr[p];}\n",
        "};\n",
        "int main(){\n",
        "    Arreglo<Enemigo> enemigos;\n",
        "    Arreglo<Herramienta> herramientas;\n",
        "    Arreglo<Portal> portales;\n",
        "    Arreglo<int> enteros;\n",
        "    Arreglo<Dispositivo> dispositivos;\n",
        "    dispositivos.insertar(Dispositivo());\n",
        "    enemigos.insertar(Enemigo());\n",
        "    for(size_t i=0;i<10;++i)\n",
        "        enteros.insertar(i);      \n",
        "    cout<<dispositivos.getXpos(0).modelo<<endl;    \n",
        "    cout<<enemigos.getXpos(0).getNombre()<<endl;\n",
        "    for(size_t i=0;i<10;++i)\n",
        "        cout<<enteros.getXpos(i)<<endl;\n",
        "}\n"
      ],
      "execution_count": 41,
      "outputs": [
        {
          "output_type": "stream",
          "text": [
            "Overwriting proyecto.cpp\n"
          ],
          "name": "stdout"
        }
      ]
    },
    {
      "cell_type": "code",
      "metadata": {
        "colab": {
          "base_uri": "https://localhost:8080/"
        },
        "id": "lKZexcp0r_Hk",
        "outputId": "3b5dd8c8-46d5-4190-ef5e-71eacf57b507"
      },
      "source": [
        "!g++ proyecto.cpp -std=c++1z -Wall -o upc.exe && ./upc.exe"
      ],
      "execution_count": 42,
      "outputs": [
        {
          "output_type": "stream",
          "text": [
            "Samsung\n",
            "Sars0\n",
            "0\n",
            "1\n",
            "2\n",
            "3\n",
            "4\n",
            "5\n",
            "6\n",
            "7\n",
            "8\n",
            "9\n"
          ],
          "name": "stdout"
        }
      ]
    },
    {
      "cell_type": "code",
      "metadata": {
        "id": "GpiQE6-0sCmO"
      },
      "source": [
        ""
      ],
      "execution_count": null,
      "outputs": []
    }
  ]
}