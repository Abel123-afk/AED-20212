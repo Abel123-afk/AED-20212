{
  "nbformat": 4,
  "nbformat_minor": 0,
  "metadata": {
    "colab": {
      "name": "Semana2.ipynb",
      "provenance": [],
      "toc_visible": true,
      "authorship_tag": "ABX9TyN6197B3fPjLDKT3kp+F9z7"
    },
    "kernelspec": {
      "name": "python3",
      "display_name": "Python 3"
    },
    "language_info": {
      "name": "python"
    }
  },
  "cells": [
    {
      "cell_type": "markdown",
      "metadata": {
        "id": "RVSFZGM3dOk1"
      },
      "source": [
        "#Temario\n",
        "1. Intro Colab\n",
        "1. Compilacion por terminal\n",
        "1. Templates\n",
        "\n",
        "## Compilación"
      ]
    },
    {
      "cell_type": "code",
      "metadata": {
        "colab": {
          "base_uri": "https://localhost:8080/"
        },
        "id": "IRb_TzMJV-VG",
        "outputId": "84fa81d3-e819-41e0-b007-279ea8bb8f8f"
      },
      "source": [
        "%%writefile programa1.cpp\n",
        "#include <iostream>\n",
        "using namespace std;\n",
        "int main(){\n",
        "  cout<<\"Intro a Colab\";\n",
        "  return 0;  \n",
        "}"
      ],
      "execution_count": 7,
      "outputs": [
        {
          "output_type": "stream",
          "text": [
            "Overwriting programa1.cpp\n"
          ],
          "name": "stdout"
        }
      ]
    },
    {
      "cell_type": "code",
      "metadata": {
        "id": "zPpOx43EYyKp"
      },
      "source": [
        "#compilar el código\n",
        "!g++ programa1.cpp"
      ],
      "execution_count": 8,
      "outputs": []
    },
    {
      "cell_type": "code",
      "metadata": {
        "colab": {
          "base_uri": "https://localhost:8080/"
        },
        "id": "6LHjTvJ6Z0_l",
        "outputId": "275239ea-604e-420c-bc48-f7b8153c47ea"
      },
      "source": [
        "#ejecutar el programa objeto\n",
        "!./a.out"
      ],
      "execution_count": 9,
      "outputs": [
        {
          "output_type": "stream",
          "text": [
            "Intro a Colab"
          ],
          "name": "stdout"
        }
      ]
    },
    {
      "cell_type": "code",
      "metadata": {
        "colab": {
          "base_uri": "https://localhost:8080/"
        },
        "id": "KjeZGasqaNyS",
        "outputId": "86f29663-2d5b-4abc-8348-6ac95ae9ca8f"
      },
      "source": [
        "!g++ programa1.cpp && ./a.out"
      ],
      "execution_count": 10,
      "outputs": [
        {
          "output_type": "stream",
          "text": [
            "Intro a Colab"
          ],
          "name": "stdout"
        }
      ]
    },
    {
      "cell_type": "code",
      "metadata": {
        "colab": {
          "base_uri": "https://localhost:8080/"
        },
        "id": "X9ZrPbmBacBq",
        "outputId": "73adf0f8-47fa-4e9a-9ac8-a321d7a46e85"
      },
      "source": [
        "!g++ programa1.cpp -std=c++1z -Wall -o upc.exe && ./upc.exe"
      ],
      "execution_count": 16,
      "outputs": [
        {
          "output_type": "stream",
          "text": [
            "Intro a Colab"
          ],
          "name": "stdout"
        }
      ]
    },
    {
      "cell_type": "markdown",
      "metadata": {
        "id": "Yp5LTiENdsfK"
      },
      "source": [
        "## Templates"
      ]
    },
    {
      "cell_type": "code",
      "metadata": {
        "id": "MFLpUY8rbno0"
      },
      "source": [
        ""
      ],
      "execution_count": null,
      "outputs": []
    }
  ]
}