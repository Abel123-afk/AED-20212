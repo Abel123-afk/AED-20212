{
  "nbformat": 4,
  "nbformat_minor": 0,
  "metadata": {
    "colab": {
      "name": "Semana2.ipynb",
      "provenance": [],
      "authorship_tag": "ABX9TyNq31KlAhZQn77PsC30asdo"
    },
    "kernelspec": {
      "name": "python3",
      "display_name": "Python 3"
    },
    "language_info": {
      "name": "python"
    }
  },
  "cells": [
    {
      "cell_type": "markdown",
      "metadata": {
        "id": "AWjjaaC7RM55"
      },
      "source": [
        "#Temario\n",
        "1. Colab\n",
        "2. Compilación manual\n",
        "3. Templates\n"
      ]
    },
    {
      "cell_type": "code",
      "metadata": {
        "colab": {
          "base_uri": "https://localhost:8080/"
        },
        "id": "JfAA_ZinMwrL",
        "outputId": "cc760a29-9308-48a5-82ee-c5d55cb2657c"
      },
      "source": [
        "%%writefile prog1.cpp\n",
        "#include <iostream>\n",
        "using namespace std;\n",
        "int main(){\n",
        "  cout<<\"UPC\";\n",
        "  return 0;\n",
        "}"
      ],
      "execution_count": 7,
      "outputs": [
        {
          "output_type": "stream",
          "text": [
            "Overwriting prog1.cpp\n"
          ],
          "name": "stdout"
        }
      ]
    },
    {
      "cell_type": "code",
      "metadata": {
        "id": "9aJ9dAFEN1RY"
      },
      "source": [
        "#compilando desde colab, ! sirve ejecutar programas en shell(cp, rm, mv)\n",
        "!g++ prog1.cpp"
      ],
      "execution_count": 8,
      "outputs": []
    },
    {
      "cell_type": "code",
      "metadata": {
        "colab": {
          "base_uri": "https://localhost:8080/"
        },
        "id": "aTx7UqKqOebn",
        "outputId": "e3ee5747-8870-4652-a399-1bb3008a2094"
      },
      "source": [
        "#ejecutar desde el programa objeto\n",
        "!./a.out"
      ],
      "execution_count": 10,
      "outputs": [
        {
          "output_type": "stream",
          "text": [
            "UPC"
          ],
          "name": "stdout"
        }
      ]
    },
    {
      "cell_type": "code",
      "metadata": {
        "colab": {
          "base_uri": "https://localhost:8080/"
        },
        "id": "Gln8JVkAO2kw",
        "outputId": "8a52de42-092b-4d75-cb95-ddb6a94b824a"
      },
      "source": [
        "#compilar y ejecutar\n",
        "!g++ prog1.cpp && ./a.out"
      ],
      "execution_count": 11,
      "outputs": [
        {
          "output_type": "stream",
          "text": [
            "UPC"
          ],
          "name": "stdout"
        }
      ]
    },
    {
      "cell_type": "code",
      "metadata": {
        "colab": {
          "base_uri": "https://localhost:8080/"
        },
        "id": "oJGDdWQ8PeCK",
        "outputId": "99288627-a266-474c-f911-c8283d2aa50e"
      },
      "source": [
        "!g++ prog1.cpp -o prog1.bin && ./prog1.bin"
      ],
      "execution_count": 12,
      "outputs": [
        {
          "output_type": "stream",
          "text": [
            "UPC"
          ],
          "name": "stdout"
        }
      ]
    },
    {
      "cell_type": "code",
      "metadata": {
        "colab": {
          "base_uri": "https://localhost:8080/"
        },
        "id": "L82Ii9rhPzdu",
        "outputId": "c6155250-8e99-4885-c8b6-d0987a324604"
      },
      "source": [
        "#compilar, renombra, selecciona el compilador y ejecuta \n",
        "!g++ -std=c++1z -Wall prog1.cpp -o prog1.bin && ./prog1.bin"
      ],
      "execution_count": 17,
      "outputs": [
        {
          "output_type": "stream",
          "text": [
            "UPC"
          ],
          "name": "stdout"
        }
      ]
    },
    {
      "cell_type": "markdown",
      "metadata": {
        "id": "Wvhs_3muSTOI"
      },
      "source": [
        "## Templates"
      ]
    },
    {
      "cell_type": "code",
      "metadata": {
        "colab": {
          "base_uri": "https://localhost:8080/"
        },
        "id": "n5Y02cH9QDoG",
        "outputId": "f3b8b3a1-4e28-4103-e91c-84a18fb61054"
      },
      "source": [
        "%%writefile SinTemplates.cpp\n",
        "typedef unsigned long long ull;\n",
        "class BigNumber{\n",
        "    ull n1;\n",
        "    ull n2;\n",
        "    public:\n",
        "    BigNumber(ull n1=0,ull n2=0):n1(n1),n2(n2){}\n",
        "};\n",
        "class BigNumberF{\n",
        "     float n1;\n",
        "     float n2;\n",
        "     public:\n",
        "    BigNumberF(float n1=0):n1(n1){}\n",
        "};\n",
        "class BigNumberD{\n",
        "    double n1;\n",
        "    double n2;\n",
        "    public:\n",
        "    BigNumberD(double n1=0):n1(n1){}\n",
        "};\n",
        "int main(){\n",
        "    BigNumber n1;\n",
        "    BigNumberF n2;\n",
        "    BigNumberD n3;\n",
        "    return 0;\n",
        "}"
      ],
      "execution_count": 35,
      "outputs": [
        {
          "output_type": "stream",
          "text": [
            "Overwriting SinTemplates.cpp\n"
          ],
          "name": "stdout"
        }
      ]
    },
    {
      "cell_type": "code",
      "metadata": {
        "id": "oyxZv4v9Q0kq"
      },
      "source": [
        "!g++ -std=c++1z -Wall SinTemplates.cpp -o SinTemplates.bin && ./SinTemplates.bin"
      ],
      "execution_count": 36,
      "outputs": []
    },
    {
      "cell_type": "code",
      "metadata": {
        "colab": {
          "base_uri": "https://localhost:8080/"
        },
        "id": "NJPmVV1cT2Dc",
        "outputId": "9e05fe00-3f8d-4b53-e6fd-73fab8c9ee60"
      },
      "source": [
        "%%writefile ConTemplates.cpp\n",
        "typedef unsigned long long ull;\n",
        "template <class Tipo>\n",
        "class BigNumber{\n",
        "    Tipo n1;\n",
        "    Tipo n2;\n",
        "    public:\n",
        "    BigNumber(Tipo n1=0,Tipo n2=0):n1(n1),n2(n2){}\n",
        "};\n",
        "int main(){\n",
        "    BigNumber<ull> n1;\n",
        "    BigNumber<float> n2;\n",
        "    BigNumber<double> n3;\n",
        "    return 0;\n",
        "}"
      ],
      "execution_count": 39,
      "outputs": [
        {
          "output_type": "stream",
          "text": [
            "Overwriting ConTemplates.cpp\n"
          ],
          "name": "stdout"
        }
      ]
    },
    {
      "cell_type": "code",
      "metadata": {
        "id": "14-jcUpAWogR"
      },
      "source": [
        "!g++ -std=c++1z -Wall ConTemplates.cpp -o ConTemplates.bin && ./ConTemplates.bin"
      ],
      "execution_count": 40,
      "outputs": []
    },
    {
      "cell_type": "markdown",
      "metadata": {
        "id": "Vl7F_S3bbRzd"
      },
      "source": [
        "#Estructura de datos Array con templates"
      ]
    },
    {
      "cell_type": "code",
      "metadata": {
        "colab": {
          "base_uri": "https://localhost:8080/"
        },
        "id": "tdRlCBkJWtUg",
        "outputId": "4286b76b-4e2f-4f66-e00f-29ed400fb90f"
      },
      "source": [
        "%%writefile estructura.cpp\n",
        "#include <string>\n",
        "#include <iostream>\n",
        "\n",
        "using std::string;\n",
        "using std::cout;\n",
        "struct Virus{\n",
        "    \n",
        "    string name;\n",
        "    Virus(){\n",
        "        name=\"abc\";\n",
        "    }\n",
        "};\n",
        "class Person{\n",
        "    string name;\n",
        "};\n",
        "template <class Tipo>\n",
        "class Array{\n",
        "  Tipo* arr;\n",
        "  unsigned short id;\n",
        "  public:\n",
        "  Array(){\n",
        "      arr=new Tipo[100];\n",
        "      id=0;\n",
        "  }  \n",
        "  void insert(Tipo v){\n",
        "      if(id<100){\n",
        "          arr[id]=v;\n",
        "          id++;\n",
        "      }\n",
        "  }\n",
        "  Tipo recByPos(unsigned short p){\n",
        "      //if(p>=0&&p<=id)\n",
        "          return arr[p];      \n",
        "  } \n",
        "};\n",
        "int main(){\n",
        "    //tipos de datos de datos compuestos\n",
        "    Array<Virus> colVirus;\n",
        "    Array<Person> colPersonas;\n",
        "    //tipos de datos primitivos\n",
        "    Array<int> enteros;\n",
        "    Array<char> caracteres;\n",
        "\n",
        "    //insertando valores\n",
        "    for(size_t i=0;i<20;++i){\n",
        "      colVirus.insert(Virus());\n",
        "      enteros.insert(i);      \n",
        "    }\n",
        "    //probar el registro de datos en el container(Estructura de datos)\n",
        "    cout<<colVirus.recByPos(10).name<<\"\\n\";\n",
        "    cout<<enteros.recByPos(10)<<\"\\n\";\n",
        "\n",
        "    return 0;\n",
        "}\n",
        "/*\n",
        "class CVirus{\n",
        "  Virus* arr;\n",
        "  unsigned short id;\n",
        "  public:\n",
        "  CVirus{\n",
        "      arr=new Virus[100];\n",
        "      id=0;\n",
        "  }  \n",
        "  void insert(Virus v){\n",
        "      if(id<100){\n",
        "          arr[id]=v;\n",
        "          id++;\n",
        "      }\n",
        "  }\n",
        "};\n",
        "\n",
        "class CPerson{\n",
        "  Person* arr;\n",
        "  unsigned short id;\n",
        "  public:\n",
        "  CPerson{\n",
        "      arr=new Person[100];\n",
        "      id=0;\n",
        "  }  \n",
        "  void insert(Person v){\n",
        "      if(id<100){\n",
        "          arr[id]=v;\n",
        "          id++;\n",
        "      }\n",
        "  }\n",
        "};\n",
        "*/\n",
        "\n"
      ],
      "execution_count": 55,
      "outputs": [
        {
          "output_type": "stream",
          "text": [
            "Overwriting estructura.cpp\n"
          ],
          "name": "stdout"
        }
      ]
    },
    {
      "cell_type": "code",
      "metadata": {
        "colab": {
          "base_uri": "https://localhost:8080/"
        },
        "id": "xVVJF805e5_f",
        "outputId": "3ed887d8-f718-4df3-ec01-060fd024feab"
      },
      "source": [
        "!g++ -std=c++1z -Wall estructura.cpp -o estructura.bin && ./estructura.bin"
      ],
      "execution_count": 56,
      "outputs": [
        {
          "output_type": "stream",
          "text": [
            "abc\n",
            "10\n"
          ],
          "name": "stdout"
        }
      ]
    },
    {
      "cell_type": "code",
      "metadata": {
        "id": "nqDETUGPfAj5"
      },
      "source": [
        ""
      ],
      "execution_count": null,
      "outputs": []
    },
    {
      "cell_type": "markdown",
      "metadata": {
        "id": "P2s6YmsYj-LX"
      },
      "source": [
        "#Tarea Académica 3\n",
        "implementar con templates el proyecto final de programación(sólamente clases propias), desarrollar un caso de prueba para las funcionalidades en el main.\n"
      ]
    },
    {
      "cell_type": "code",
      "metadata": {
        "id": "VOhQyrGgkQn-"
      },
      "source": [
        ""
      ],
      "execution_count": null,
      "outputs": []
    }
  ]
}