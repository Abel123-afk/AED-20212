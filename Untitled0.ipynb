{
  "nbformat": 4,
  "nbformat_minor": 0,
  "metadata": {
    "colab": {
      "name": "Untitled0.ipynb",
      "provenance": [],
      "authorship_tag": "ABX9TyPTsp7qmrYK1elzcKPzVoq7"
    },
    "kernelspec": {
      "name": "python3",
      "display_name": "Python 3"
    },
    "language_info": {
      "name": "python"
    }
  },
  "cells": [
    {
      "cell_type": "markdown",
      "metadata": {
        "id": "g7d3WhPH_pQ9"
      },
      "source": [
        "#Temario\n",
        "1. **Colab**\n",
        "1. Compilación por terminal\n",
        "1. Control de versiones\n",
        "1. Templates"
      ]
    },
    {
      "cell_type": "code",
      "metadata": {
        "colab": {
          "base_uri": "https://localhost:8080/"
        },
        "id": "FwTZV_OM7MWu",
        "outputId": "b70c997c-c80f-4a5c-98e0-575b2c46f9de"
      },
      "source": [
        "%%writefile p1.cpp\n",
        "#include <iostream>\n",
        "using namespace std;\n",
        "int main(){\n",
        "cout<<\"Hola Upcino\";\n",
        "  return 0;\n",
        "}"
      ],
      "execution_count": 9,
      "outputs": [
        {
          "output_type": "stream",
          "text": [
            "Overwriting p1.cpp\n"
          ],
          "name": "stdout"
        }
      ]
    },
    {
      "cell_type": "code",
      "metadata": {
        "id": "f7m_kFFu8Zfy"
      },
      "source": [
        "#compilando código en c++\n",
        "!g++ p1.cpp"
      ],
      "execution_count": 10,
      "outputs": []
    },
    {
      "cell_type": "code",
      "metadata": {
        "colab": {
          "base_uri": "https://localhost:8080/"
        },
        "id": "3GJstTtB8zyP",
        "outputId": "b3db9179-390d-406e-a532-57befcd9f554"
      },
      "source": [
        "#ejecuta el binario\n",
        "!./a.out"
      ],
      "execution_count": 11,
      "outputs": [
        {
          "output_type": "stream",
          "text": [
            "Hola Upcino"
          ],
          "name": "stdout"
        }
      ]
    },
    {
      "cell_type": "code",
      "metadata": {
        "colab": {
          "base_uri": "https://localhost:8080/"
        },
        "id": "OM5OiWge9lTT",
        "outputId": "a030e7c9-67f8-49f5-8235-c587b93e405b"
      },
      "source": [
        "!g++ p1.cpp && ./a.out"
      ],
      "execution_count": 12,
      "outputs": [
        {
          "output_type": "stream",
          "text": [
            "Hola Upcino"
          ],
          "name": "stdout"
        }
      ]
    },
    {
      "cell_type": "code",
      "metadata": {
        "colab": {
          "base_uri": "https://localhost:8080/"
        },
        "id": "3npqiwpt9tfe",
        "outputId": "3c05668f-0e48-4a6f-bb01-b7abf4de7a06"
      },
      "source": [
        "!g++ p1.cpp -o upc.exe && ./upc.exe"
      ],
      "execution_count": 13,
      "outputs": [
        {
          "output_type": "stream",
          "text": [
            "Hola Upcino"
          ],
          "name": "stdout"
        }
      ]
    },
    {
      "cell_type": "code",
      "metadata": {
        "colab": {
          "base_uri": "https://localhost:8080/"
        },
        "id": "LaKbH9jF-LJ8",
        "outputId": "8683227c-178a-4402-ba77-dc8f8b3e26dd"
      },
      "source": [
        "!g++ p1.cpp -std=c++1z -Wall -o upc.exe && ./upc.exe"
      ],
      "execution_count": 16,
      "outputs": [
        {
          "output_type": "stream",
          "text": [
            "Hola Upcino"
          ],
          "name": "stdout"
        }
      ]
    },
    {
      "cell_type": "code",
      "metadata": {
        "id": "G35eTivb-ZEh"
      },
      "source": [
        "!g++ p1.cpp -o upc.exe && ./upc.exe"
      ],
      "execution_count": null,
      "outputs": []
    }
  ]
}